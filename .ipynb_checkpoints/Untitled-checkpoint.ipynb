{
 "cells": [
  {
   "cell_type": "code",
   "execution_count": 1,
   "metadata": {},
   "outputs": [],
   "source": [
    "def time_func(reps):\n",
    "    def timed(fn):\n",
    "        from time import perf_counter\n",
    "        from functools import wraps\n",
    "\n",
    "        @wraps(fn)\n",
    "        def inner(*args, **kwargs):\n",
    "            elapsed_time = 0\n",
    "\n",
    "            for i in range(reps):\n",
    "                start = perf_counter()\n",
    "                result = fn(*args, **kwargs)\n",
    "                end = perf_counter()\n",
    "                \n",
    "                elapsed_time += end - start\n",
    "\n",
    "            avg_time = elapsed_time/reps\n",
    "\n",
    "            print(f\"{fn.__name__} took average time {avg_time} to complete {reps} runs.\")\n",
    "            return result\n",
    "        return inner\n",
    "    return timed"
   ]
  },
  {
   "cell_type": "code",
   "execution_count": 2,
   "metadata": {},
   "outputs": [],
   "source": [
    "def logger(fn):\n",
    "    from datetime import datetime\n",
    "    \n",
    "    def log(*args, **kwargs):\n",
    "        print(f\"{fn.__name__} called at {datetime.now()}\")\n",
    "        return fn(*args, **kwargs)\n",
    "    return log"
   ]
  },
  {
   "cell_type": "code",
   "execution_count": 3,
   "metadata": {},
   "outputs": [],
   "source": [
    "def fib_cache(fn):\n",
    "    cache = dict()\n",
    "    \n",
    "    def inner(n):\n",
    "        if n not in cache:\n",
    "            print(f\"Calculating fib seq : {n}\")\n",
    "            cache[n] = fn(n)\n",
    "        return cache[n]\n",
    "    return inner"
   ]
  },
  {
   "cell_type": "code",
   "execution_count": 9,
   "metadata": {},
   "outputs": [],
   "source": [
    "# 0 1 2 3 4 5 6 \n",
    "# 0 1 1 2 3 5 8 \n",
    "@fib_cache\n",
    "def fib_rec(n):\n",
    "    return 1 if n < 3 else fib_rec(n - 2) + fib_rec(n - 1)\n",
    "\n",
    "\n",
    "@logger\n",
    "@time_func(10)\n",
    "def calc_fib_rec(n):\n",
    "    return fib_rec(n)\n"
   ]
  },
  {
   "cell_type": "code",
   "execution_count": 10,
   "metadata": {},
   "outputs": [
    {
     "name": "stdout",
     "output_type": "stream",
     "text": [
      "calc_fib_rec called at 2020-09-21 13:01:05.119608\n",
      "Calculating fib seq : 6\n",
      "Calculating fib seq : 4\n",
      "Calculating fib seq : 2\n",
      "Calculating fib seq : 3\n",
      "Calculating fib seq : 1\n",
      "Calculating fib seq : 5\n",
      "calc_fib_rec took average time 2.1317700520739892e-05 to complete 10 runs.\n"
     ]
    },
    {
     "data": {
      "text/plain": [
       "8"
      ]
     },
     "execution_count": 10,
     "metadata": {},
     "output_type": "execute_result"
    }
   ],
   "source": [
    "calc_fib_rec(6)"
   ]
  },
  {
   "cell_type": "code",
   "execution_count": 12,
   "metadata": {},
   "outputs": [
    {
     "name": "stdout",
     "output_type": "stream",
     "text": [
      "calc_fib_rec called at 2020-09-21 13:01:22.261319\n",
      "calc_fib_rec took average time 4.646997695090249e-07 to complete 10 runs.\n"
     ]
    },
    {
     "data": {
      "text/plain": [
       "3"
      ]
     },
     "execution_count": 12,
     "metadata": {},
     "output_type": "execute_result"
    }
   ],
   "source": [
    "calc_fib_rec(4)"
   ]
  },
  {
   "cell_type": "code",
   "execution_count": 13,
   "metadata": {},
   "outputs": [],
   "source": [
    "@fib_cache\n",
    "@logger\n",
    "@time_func(10000)\n",
    "def calc_fib_loop(n):\n",
    "    curr, prev = 1, 0\n",
    "    for i in range(2, n + 1):\n",
    "        curr, prev = curr + prev, curr \n",
    "\n",
    "    return curr"
   ]
  },
  {
   "cell_type": "code",
   "execution_count": 14,
   "metadata": {},
   "outputs": [
    {
     "name": "stdout",
     "output_type": "stream",
     "text": [
      "Calculating fib seq : 6\n",
      "calc_fib_loop called at 2020-09-21 13:05:39.072774\n",
      "calc_fib_loop took average time 8.623336978416773e-07 to complete 10000 runs.\n"
     ]
    },
    {
     "data": {
      "text/plain": [
       "8"
      ]
     },
     "execution_count": 14,
     "metadata": {},
     "output_type": "execute_result"
    }
   ],
   "source": [
    "calc_fib_loop(6)"
   ]
  },
  {
   "cell_type": "code",
   "execution_count": 17,
   "metadata": {},
   "outputs": [
    {
     "data": {
      "text/plain": [
       "('cache', 'fn')"
      ]
     },
     "execution_count": 17,
     "metadata": {},
     "output_type": "execute_result"
    }
   ],
   "source": [
    "calc_fib_loop.__code__.co_freevars"
   ]
  },
  {
   "cell_type": "code",
   "execution_count": 19,
   "metadata": {},
   "outputs": [
    {
     "data": {
      "text/plain": [
       "{6: 8}"
      ]
     },
     "execution_count": 19,
     "metadata": {},
     "output_type": "execute_result"
    }
   ],
   "source": [
    "calc_fib_loop.__closure__[0].cell_contents"
   ]
  },
  {
   "cell_type": "code",
   "execution_count": null,
   "metadata": {},
   "outputs": [],
   "source": [
    "\n"
   ]
  },
  {
   "cell_type": "code",
   "execution_count": 20,
   "metadata": {},
   "outputs": [],
   "source": [
    "class MyClass:\n",
    "    def __init__(self, a, b):\n",
    "        self.a = a\n",
    "        self.b = b\n",
    "        \n",
    "    def __call__(self, fn):\n",
    "        def inner(*args, **kwargs):\n",
    "            print(f\"decorated func called a={self.a} and b={self.b}\")\n",
    "            return fn(*args, **kwargs)\n",
    "        return inner\n",
    "                \n",
    "                \n",
    "                \n",
    "        "
   ]
  },
  {
   "cell_type": "code",
   "execution_count": 22,
   "metadata": {},
   "outputs": [
    {
     "name": "stdout",
     "output_type": "stream",
     "text": [
      "decorated func called a=20 and b=10\n",
      "Hello World\n"
     ]
    }
   ],
   "source": [
    "@MyClass(20, 10)\n",
    "def my_func(s):\n",
    "    print(f\"Hello {s}\")\n",
    "my_func(\"World\")"
   ]
  },
  {
   "cell_type": "code",
   "execution_count": null,
   "metadata": {},
   "outputs": [],
   "source": []
  },
  {
   "cell_type": "code",
   "execution_count": null,
   "metadata": {},
   "outputs": [],
   "source": []
  }
 ],
 "metadata": {
  "kernelspec": {
   "display_name": "Python 3",
   "language": "python",
   "name": "python3"
  },
  "language_info": {
   "codemirror_mode": {
    "name": "ipython",
    "version": 3
   },
   "file_extension": ".py",
   "mimetype": "text/x-python",
   "name": "python",
   "nbconvert_exporter": "python",
   "pygments_lexer": "ipython3",
   "version": "3.6.10"
  }
 },
 "nbformat": 4,
 "nbformat_minor": 4
}
