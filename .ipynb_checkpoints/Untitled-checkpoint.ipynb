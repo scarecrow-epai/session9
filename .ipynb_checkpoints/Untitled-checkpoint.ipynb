{
 "cells": [
  {
   "cell_type": "code",
   "execution_count": 4,
   "metadata": {},
   "outputs": [],
   "source": [
    "from time import perf_counter\n",
    "from functools import reduce\n",
    "from functools import wraps"
   ]
  },
  {
   "cell_type": "code",
   "execution_count": 5,
   "metadata": {},
   "outputs": [],
   "source": [
    "def timed(fn):\n",
    "    from time import perf_counter\n",
    "    from functools import wraps\n",
    "    \n",
    "    @wraps(fn)\n",
    "    def inner(*args, **kwargs):\n",
    "        start = perf_counter()\n",
    "        result = fn(*args, **kwargs)\n",
    "        end = perf_counter()\n",
    "        elapsed = start - end\n",
    "        \n",
    "        args_ = [str(a) for a in args]\n",
    "        kwargs_ = [\"{0}={1}\".format(k, v) for k, v in kwargs.items()]\n",
    "        args_str = args_ + kwargs_\n",
    "        \n",
    "        print(f\"{fn.__name__} ({args_str}) took {elapsed} seconds.\")\n",
    "        \n",
    "        return result\n",
    "    return inner"
   ]
  },
  {
   "cell_type": "code",
   "execution_count": 6,
   "metadata": {},
   "outputs": [],
   "source": [
    "def calc_recursive_fib(n):\n",
    "    if n <= 2:\n",
    "        return 1\n",
    "    else:\n",
    "        return calc_recursive_fib(n - 1) + calc_recursive_fib(n - 2)"
   ]
  },
  {
   "cell_type": "code",
   "execution_count": 7,
   "metadata": {},
   "outputs": [
    {
     "name": "stdout",
     "output_type": "stream",
     "text": [
      "Help on function calc_recursive_fib in module __main__:\n",
      "\n",
      "calc_recursive_fib(n)\n",
      "\n"
     ]
    }
   ],
   "source": [
    "help(calc_recursive_fib)"
   ]
  },
  {
   "cell_type": "code",
   "execution_count": 8,
   "metadata": {},
   "outputs": [],
   "source": [
    "@timed\n",
    "def fib_recursive(n):\n",
    "    return calc_recursive_fib(n)"
   ]
  },
  {
   "cell_type": "code",
   "execution_count": 9,
   "metadata": {},
   "outputs": [
    {
     "name": "stdout",
     "output_type": "stream",
     "text": [
      "fib_recursive (['36']) took -2.315906208999877 seconds.\n"
     ]
    },
    {
     "data": {
      "text/plain": [
       "14930352"
      ]
     },
     "execution_count": 9,
     "metadata": {},
     "output_type": "execute_result"
    }
   ],
   "source": [
    "fib_recursive(36)"
   ]
  },
  {
   "cell_type": "code",
   "execution_count": 10,
   "metadata": {},
   "outputs": [],
   "source": [
    "@timed\n",
    "def fib_loop(n):\n",
    "    fib_1 = 1\n",
    "    fib_2 = 1\n",
    "    for i in range(3, n+1):\n",
    "        fib_1, fib_2 = fib_2, fib_1 + fib_2\n",
    "        \n",
    "    return fib_2"
   ]
  },
  {
   "cell_type": "code",
   "execution_count": 11,
   "metadata": {},
   "outputs": [
    {
     "name": "stdout",
     "output_type": "stream",
     "text": [
      "fib_loop (['36']) took -3.744999958144035e-06 seconds.\n"
     ]
    },
    {
     "data": {
      "text/plain": [
       "14930352"
      ]
     },
     "execution_count": 11,
     "metadata": {},
     "output_type": "execute_result"
    }
   ],
   "source": [
    "fib_loop(36)"
   ]
  },
  {
   "cell_type": "code",
   "execution_count": 12,
   "metadata": {},
   "outputs": [
    {
     "name": "stdout",
     "output_type": "stream",
     "text": [
      "fib_loop (['4']) took -2.9289999474713113e-06 seconds.\n"
     ]
    },
    {
     "data": {
      "text/plain": [
       "3"
      ]
     },
     "execution_count": 12,
     "metadata": {},
     "output_type": "execute_result"
    }
   ],
   "source": [
    "fib_loop(4)"
   ]
  },
  {
   "cell_type": "code",
   "execution_count": 13,
   "metadata": {},
   "outputs": [],
   "source": [
    "@timed\n",
    "def fib_reduce(n):\n",
    "    initial = (1, 0)\n",
    "    dummy = range(n)\n",
    "    fib_n = reduce(lambda prv, nxt: (prv[0] + prv[1], prv[0]), dummy, initial)\n",
    "    return fib_n[0]"
   ]
  },
  {
   "cell_type": "code",
   "execution_count": 14,
   "metadata": {},
   "outputs": [
    {
     "name": "stdout",
     "output_type": "stream",
     "text": [
      "fib_reduce (['36']) took -2.9731000040555955e-05 seconds.\n"
     ]
    },
    {
     "data": {
      "text/plain": [
       "24157817"
      ]
     },
     "execution_count": 14,
     "metadata": {},
     "output_type": "execute_result"
    }
   ],
   "source": [
    "fib_reduce(36)"
   ]
  },
  {
   "cell_type": "code",
   "execution_count": 30,
   "metadata": {},
   "outputs": [],
   "source": [
    "def timed_fac(reps):\n",
    "    def timed(fn):\n",
    "        from time import perf_counter\n",
    "        from functools import wraps\n",
    "\n",
    "        @wraps(fn)\n",
    "        def inner(*args, **kwargs):\n",
    "            elapsed_total = 0\n",
    "            elapsed_count = 0\n",
    "\n",
    "            for i in range(reps):\n",
    "                print(f\"Running iteration {i+1}\")\n",
    "                start = perf_counter()\n",
    "                result = fn(*args, **kwargs)\n",
    "                end = perf_counter()\n",
    "                elapsed = end - start\n",
    "                elapsed_total += elapsed\n",
    "                elapsed_count += 1\n",
    "\n",
    "            args_ = [str(a) for a in args]\n",
    "            kwargs_ = [\"{0}={1}\".format(k, v) for k, v in kwargs.items()]\n",
    "            all_args = args_ + kwargs_\n",
    "            args_str = \", \".join(all_args)\n",
    "\n",
    "            elapsed_avg = elapsed_total/elapsed_count\n",
    "\n",
    "            print(f\"{fn.__name__} ({args_str}) took {elapsed_avg} seconds.\")\n",
    "\n",
    "            return result\n",
    "        return inner\n",
    "    return timed"
   ]
  },
  {
   "cell_type": "code",
   "execution_count": 31,
   "metadata": {},
   "outputs": [],
   "source": [
    "@timed_fac(5)\n",
    "def fib_reduce(n):\n",
    "    initial = (1, 0)\n",
    "    dummy = range(n)\n",
    "    fib_n = reduce(lambda prv, nxt: (prv[0] + prv[1], prv[0]), dummy, initial)\n",
    "    return fib_n[0]"
   ]
  },
  {
   "cell_type": "code",
   "execution_count": 32,
   "metadata": {},
   "outputs": [
    {
     "name": "stdout",
     "output_type": "stream",
     "text": [
      "Running iteration 1\n",
      "Running iteration 2\n",
      "Running iteration 3\n",
      "Running iteration 4\n",
      "Running iteration 5\n",
      "fib_reduce (36) took 1.9256199811934495e-05 seconds.\n"
     ]
    },
    {
     "data": {
      "text/plain": [
       "24157817"
      ]
     },
     "execution_count": 32,
     "metadata": {},
     "output_type": "execute_result"
    }
   ],
   "source": [
    "fib_reduce(36)"
   ]
  },
  {
   "cell_type": "code",
   "execution_count": 59,
   "metadata": {},
   "outputs": [],
   "source": [
    "def odd_sec(fn):\n",
    "    import datetime\n",
    "    def inner(*args, **kwargs):\n",
    "        curr_sec = datetime.datetime.now().second\n",
    "        if curr_sec % 2 == 0:\n",
    "            return f\"Cannot run because {curr_sec} second is odd.\"\n",
    "        return fn(*args, **kwargs)\n",
    "    return inner"
   ]
  },
  {
   "cell_type": "code",
   "execution_count": 63,
   "metadata": {},
   "outputs": [],
   "source": [
    "@odd_sec\n",
    "def add(a, b):\n",
    "    return (a + b)"
   ]
  },
  {
   "cell_type": "code",
   "execution_count": 76,
   "metadata": {},
   "outputs": [
    {
     "data": {
      "text/plain": [
       "3"
      ]
     },
     "execution_count": 76,
     "metadata": {},
     "output_type": "execute_result"
    }
   ],
   "source": [
    "add(1, 2)"
   ]
  },
  {
   "cell_type": "code",
   "execution_count": null,
   "metadata": {},
   "outputs": [],
   "source": []
  }
 ],
 "metadata": {
  "kernelspec": {
   "display_name": "Python 3",
   "language": "python",
   "name": "python3"
  },
  "language_info": {
   "codemirror_mode": {
    "name": "ipython",
    "version": 3
   },
   "file_extension": ".py",
   "mimetype": "text/x-python",
   "name": "python",
   "nbconvert_exporter": "python",
   "pygments_lexer": "ipython3",
   "version": "3.6.10"
  }
 },
 "nbformat": 4,
 "nbformat_minor": 4
}
